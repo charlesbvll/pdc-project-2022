{
 "cells": [
  {
   "cell_type": "code",
   "execution_count": 21,
   "metadata": {},
   "outputs": [],
   "source": [
    "import numpy as np\n",
    "from utils import *\n",
    "import cmath\n",
    "import math"
   ]
  },
  {
   "cell_type": "code",
   "execution_count": 22,
   "metadata": {},
   "outputs": [],
   "source": [
    "def make_const_code(m):\n",
    "    const = []\n",
    "    code = []\n",
    "    quad = int(m/4)\n",
    "    sq = math.sqrt(m)\n",
    "    N = int(math.sqrt(quad))\n",
    "    for k in range(4):\n",
    "        for i in range(N):\n",
    "            for j in range(N):\n",
    "                s1 = -1 if k < 2 else 1\n",
    "                s2 = -1 if k % 2 == 0 else 1 \n",
    "                re = s1*(2*j+1)*(3/2)*(1/(sq-1))\n",
    "                im = s2*(2*i+1)*(3/2)*(1/(sq-1))\n",
    "                bits = bin(quad*k + N*i + j)[2:]\n",
    "                byte = '00000000'[len(bits):] + bits\n",
    "                const.append(complex(re, im))\n",
    "                code.append(byte)\n",
    "\n",
    "    return const, code"
   ]
  },
  {
   "cell_type": "code",
   "execution_count": 23,
   "metadata": {},
   "outputs": [],
   "source": [
    "K = 10\n",
    "const, code = make_const_code(256)"
   ]
  },
  {
   "cell_type": "code",
   "execution_count": 53,
   "metadata": {},
   "outputs": [],
   "source": [
    "def to_qam(s):\n",
    "    s = 'aaaaaaaaaa' + s\n",
    "    result = []\n",
    "    for c in s:\n",
    "        bits = bin(ord(c))[2:]\n",
    "        byte = '00000000'[len(bits):] + bits\n",
    "        result.append(const[int(\"\".join(str(k) for k in byte), 2)])\n",
    "    return np.array(result)"
   ]
  },
  {
   "cell_type": "code",
   "execution_count": 59,
   "metadata": {},
   "outputs": [],
   "source": [
    "## Transmitter\n",
    "initial_str = read_file(\"initial.txt\")\n",
    "result = to_qam(initial_str[0])\n",
    "serialize_complex(result, \"input.txt\")"
   ]
  },
  {
   "cell_type": "code",
   "execution_count": 60,
   "metadata": {},
   "outputs": [],
   "source": [
    "## Client\n",
    "! python3 client.py --input_file=input.txt --output_file=output.txt"
   ]
  },
  {
   "cell_type": "code",
   "execution_count": 61,
   "metadata": {},
   "outputs": [],
   "source": [
    "def from_qam(s):\n",
    "    phase = s[0:9]\n",
    "    s = s[10:len(s)]\n",
    "    tmp = ''\n",
    "    theta = cmath.phase(sum(phase)/math.sqrt(10))\n",
    "    for c in s:\n",
    "        shifted = abs(c)*np.exp(1j*(theta+np.angle(c)))\n",
    "        idx = np.argmin([abs(shifted-e) for e in const])\n",
    "        tmp += code[idx]\n",
    "    return [tmp[i:i+8] for i in range(0, len(tmp), 8)]"
   ]
  },
  {
   "cell_type": "code",
   "execution_count": 62,
   "metadata": {},
   "outputs": [
    {
     "name": "stdout",
     "output_type": "stream",
     "text": [
      "Result is :  ãxùùxxyòøðãxxâóxôyùãxùøxxyóøðãyxâòpôyùÛxùùyxyòùðãyxâòxôyøãxøùyxyóùðãyxâòpôyøãx\n",
      "Number of different characters :  75\n"
     ]
    }
   ],
   "source": [
    "## Theta estimation receiver\n",
    "content = read_file(\"output.txt\")\n",
    "content = [complex(c) for c in content]\n",
    "\n",
    "comps = from_qam(content)\n",
    "finalText = comps_to_string(comps)\n",
    "\n",
    "write_final(finalText)\n",
    "compute_score()"
   ]
  },
  {
   "cell_type": "code",
   "execution_count": null,
   "metadata": {},
   "outputs": [],
   "source": []
  }
 ],
 "metadata": {
  "interpreter": {
   "hash": "8c2cef518e44103d2e87bbc7bdbad3c849c59c4ad82abf34e0b5c0b1400204ca"
  },
  "kernelspec": {
   "display_name": "Python 3.9.7 ('base')",
   "language": "python",
   "name": "python3"
  },
  "language_info": {
   "codemirror_mode": {
    "name": "ipython",
    "version": 3
   },
   "file_extension": ".py",
   "mimetype": "text/x-python",
   "name": "python",
   "nbconvert_exporter": "python",
   "pygments_lexer": "ipython3",
   "version": "3.9.7"
  },
  "orig_nbformat": 4
 },
 "nbformat": 4,
 "nbformat_minor": 2
}
